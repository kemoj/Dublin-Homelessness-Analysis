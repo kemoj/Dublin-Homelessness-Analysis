{
 "cells": [
  {
   "cell_type": "code",
   "execution_count": 4,
   "id": "27beaeb1-249a-414a-b73e-4e5317fc962a",
   "metadata": {},
   "outputs": [],
   "source": [
    "import pandas as pd\n",
    "import numpy as np\n",
    "import matplotlib.pyplot as plt\n",
    "import seaborn as sns"
   ]
  },
  {
   "cell_type": "code",
   "execution_count": 5,
   "id": "5b814930-a92a-42a4-8072-5747e5b8e4ef",
   "metadata": {},
   "outputs": [
    {
     "data": {
      "text/html": [
       "<div>\n",
       "<style scoped>\n",
       "    .dataframe tbody tr th:only-of-type {\n",
       "        vertical-align: middle;\n",
       "    }\n",
       "\n",
       "    .dataframe tbody tr th {\n",
       "        vertical-align: top;\n",
       "    }\n",
       "\n",
       "    .dataframe thead th {\n",
       "        text-align: right;\n",
       "    }\n",
       "</style>\n",
       "<table border=\"1\" class=\"dataframe\">\n",
       "  <thead>\n",
       "    <tr style=\"text-align: right;\">\n",
       "      <th></th>\n",
       "      <th>Region</th>\n",
       "      <th>Total Adults</th>\n",
       "      <th>Male Adults</th>\n",
       "      <th>Female Adults</th>\n",
       "      <th>Adults Aged 18-24</th>\n",
       "      <th>Adults Aged 25-44</th>\n",
       "      <th>Adults Aged 45-64</th>\n",
       "      <th>Adults Aged 65+</th>\n",
       "      <th>Number of people who accessed Private Emergency Accommodation</th>\n",
       "      <th>Number of people who accessed Supported Temporary Accommodation</th>\n",
       "      <th>Number of people who accessed Temporary Emergency Accommodation</th>\n",
       "      <th>Number of people who accessed Other Accommodation</th>\n",
       "      <th>Number of Families</th>\n",
       "      <th>Number of Adults in Families</th>\n",
       "      <th>Number of Child Dependants in Families</th>\n",
       "    </tr>\n",
       "  </thead>\n",
       "  <tbody>\n",
       "    <tr>\n",
       "      <th>0</th>\n",
       "      <td>Dublin</td>\n",
       "      <td>4,287</td>\n",
       "      <td>2,776</td>\n",
       "      <td>1,511</td>\n",
       "      <td>708</td>\n",
       "      <td>2,374</td>\n",
       "      <td>1,141</td>\n",
       "      <td>64</td>\n",
       "      <td>2,329</td>\n",
       "      <td>1,997</td>\n",
       "      <td>39</td>\n",
       "      <td>0</td>\n",
       "      <td>752</td>\n",
       "      <td>1,268</td>\n",
       "      <td>1,806</td>\n",
       "    </tr>\n",
       "    <tr>\n",
       "      <th>1</th>\n",
       "      <td>Mid-East</td>\n",
       "      <td>318</td>\n",
       "      <td>205</td>\n",
       "      <td>113</td>\n",
       "      <td>51</td>\n",
       "      <td>162</td>\n",
       "      <td>96</td>\n",
       "      <td>9</td>\n",
       "      <td>192</td>\n",
       "      <td>112</td>\n",
       "      <td>3</td>\n",
       "      <td>11</td>\n",
       "      <td>52</td>\n",
       "      <td>84</td>\n",
       "      <td>104</td>\n",
       "    </tr>\n",
       "    <tr>\n",
       "      <th>2</th>\n",
       "      <td>Midlands</td>\n",
       "      <td>91</td>\n",
       "      <td>60</td>\n",
       "      <td>31</td>\n",
       "      <td>21</td>\n",
       "      <td>49</td>\n",
       "      <td>18</td>\n",
       "      <td>3</td>\n",
       "      <td>65</td>\n",
       "      <td>0</td>\n",
       "      <td>26</td>\n",
       "      <td>0</td>\n",
       "      <td>6</td>\n",
       "      <td>7</td>\n",
       "      <td>11</td>\n",
       "    </tr>\n",
       "    <tr>\n",
       "      <th>3</th>\n",
       "      <td>Mid-West</td>\n",
       "      <td>299</td>\n",
       "      <td>203</td>\n",
       "      <td>96</td>\n",
       "      <td>31</td>\n",
       "      <td>169</td>\n",
       "      <td>93</td>\n",
       "      <td>6</td>\n",
       "      <td>28</td>\n",
       "      <td>240</td>\n",
       "      <td>31</td>\n",
       "      <td>0</td>\n",
       "      <td>32</td>\n",
       "      <td>44</td>\n",
       "      <td>52</td>\n",
       "    </tr>\n",
       "    <tr>\n",
       "      <th>4</th>\n",
       "      <td>North-East</td>\n",
       "      <td>75</td>\n",
       "      <td>59</td>\n",
       "      <td>16</td>\n",
       "      <td>5</td>\n",
       "      <td>44</td>\n",
       "      <td>21</td>\n",
       "      <td>5</td>\n",
       "      <td>12</td>\n",
       "      <td>54</td>\n",
       "      <td>8</td>\n",
       "      <td>1</td>\n",
       "      <td>9</td>\n",
       "      <td>11</td>\n",
       "      <td>20</td>\n",
       "    </tr>\n",
       "    <tr>\n",
       "      <th>5</th>\n",
       "      <td>North-West</td>\n",
       "      <td>74</td>\n",
       "      <td>51</td>\n",
       "      <td>23</td>\n",
       "      <td>14</td>\n",
       "      <td>38</td>\n",
       "      <td>21</td>\n",
       "      <td>1</td>\n",
       "      <td>27</td>\n",
       "      <td>32</td>\n",
       "      <td>15</td>\n",
       "      <td>0</td>\n",
       "      <td>8</td>\n",
       "      <td>9</td>\n",
       "      <td>12</td>\n",
       "    </tr>\n",
       "    <tr>\n",
       "      <th>6</th>\n",
       "      <td>South-East</td>\n",
       "      <td>193</td>\n",
       "      <td>137</td>\n",
       "      <td>56</td>\n",
       "      <td>29</td>\n",
       "      <td>110</td>\n",
       "      <td>48</td>\n",
       "      <td>6</td>\n",
       "      <td>53</td>\n",
       "      <td>140</td>\n",
       "      <td>0</td>\n",
       "      <td>0</td>\n",
       "      <td>18</td>\n",
       "      <td>24</td>\n",
       "      <td>39</td>\n",
       "    </tr>\n",
       "    <tr>\n",
       "      <th>7</th>\n",
       "      <td>South-West</td>\n",
       "      <td>512</td>\n",
       "      <td>361</td>\n",
       "      <td>151</td>\n",
       "      <td>65</td>\n",
       "      <td>283</td>\n",
       "      <td>145</td>\n",
       "      <td>19</td>\n",
       "      <td>339</td>\n",
       "      <td>179</td>\n",
       "      <td>0</td>\n",
       "      <td>0</td>\n",
       "      <td>60</td>\n",
       "      <td>76</td>\n",
       "      <td>122</td>\n",
       "    </tr>\n",
       "    <tr>\n",
       "      <th>8</th>\n",
       "      <td>West</td>\n",
       "      <td>282</td>\n",
       "      <td>166</td>\n",
       "      <td>116</td>\n",
       "      <td>65</td>\n",
       "      <td>128</td>\n",
       "      <td>74</td>\n",
       "      <td>15</td>\n",
       "      <td>160</td>\n",
       "      <td>122</td>\n",
       "      <td>0</td>\n",
       "      <td>0</td>\n",
       "      <td>68</td>\n",
       "      <td>104</td>\n",
       "      <td>178</td>\n",
       "    </tr>\n",
       "  </tbody>\n",
       "</table>\n",
       "</div>"
      ],
      "text/plain": [
       "       Region Total Adults Male Adults Female Adults  Adults Aged 18-24  \\\n",
       "0      Dublin        4,287       2,776         1,511                708   \n",
       "1    Mid-East          318         205           113                 51   \n",
       "2    Midlands           91          60            31                 21   \n",
       "3    Mid-West          299         203            96                 31   \n",
       "4  North-East           75          59            16                  5   \n",
       "5  North-West           74          51            23                 14   \n",
       "6  South-East          193         137            56                 29   \n",
       "7  South-West          512         361           151                 65   \n",
       "8        West          282         166           116                 65   \n",
       "\n",
       "  Adults Aged 25-44 Adults Aged 45-64  Adults Aged 65+  \\\n",
       "0             2,374             1,141               64   \n",
       "1               162                96                9   \n",
       "2                49                18                3   \n",
       "3               169                93                6   \n",
       "4                44                21                5   \n",
       "5                38                21                1   \n",
       "6               110                48                6   \n",
       "7               283               145               19   \n",
       "8               128                74               15   \n",
       "\n",
       "  Number of people who accessed Private Emergency Accommodation  \\\n",
       "0                                              2,329              \n",
       "1                                                192              \n",
       "2                                                 65              \n",
       "3                                                 28              \n",
       "4                                                 12              \n",
       "5                                                 27              \n",
       "6                                                 53              \n",
       "7                                                339              \n",
       "8                                                160              \n",
       "\n",
       "  Number of people who accessed Supported Temporary Accommodation  \\\n",
       "0                                              1,997                \n",
       "1                                                112                \n",
       "2                                                  0                \n",
       "3                                                240                \n",
       "4                                                 54                \n",
       "5                                                 32                \n",
       "6                                                140                \n",
       "7                                                179                \n",
       "8                                                122                \n",
       "\n",
       "   Number of people who accessed Temporary Emergency Accommodation  \\\n",
       "0                                                 39                 \n",
       "1                                                  3                 \n",
       "2                                                 26                 \n",
       "3                                                 31                 \n",
       "4                                                  8                 \n",
       "5                                                 15                 \n",
       "6                                                  0                 \n",
       "7                                                  0                 \n",
       "8                                                  0                 \n",
       "\n",
       "   Number of people who accessed Other Accommodation  Number of Families  \\\n",
       "0                                                  0                 752   \n",
       "1                                                 11                  52   \n",
       "2                                                  0                   6   \n",
       "3                                                  0                  32   \n",
       "4                                                  1                   9   \n",
       "5                                                  0                   8   \n",
       "6                                                  0                  18   \n",
       "7                                                  0                  60   \n",
       "8                                                  0                  68   \n",
       "\n",
       "  Number of Adults in Families Number of Child Dependants in Families  \n",
       "0                        1,268                                  1,806  \n",
       "1                           84                                    104  \n",
       "2                            7                                     11  \n",
       "3                           44                                     52  \n",
       "4                           11                                     20  \n",
       "5                            9                                     12  \n",
       "6                           24                                     39  \n",
       "7                           76                                    122  \n",
       "8                          104                                    178  "
      ]
     },
     "execution_count": 5,
     "metadata": {},
     "output_type": "execute_result"
    }
   ],
   "source": [
    "df= pd.read_csv(\"Home.csv\")\n",
    "df"
   ]
  },
  {
   "cell_type": "code",
   "execution_count": 8,
   "id": "e992027e-9406-459f-8f59-12c7668c4191",
   "metadata": {},
   "outputs": [
    {
     "data": {
      "text/plain": [
       "(9, 15)"
      ]
     },
     "execution_count": 8,
     "metadata": {},
     "output_type": "execute_result"
    }
   ],
   "source": [
    "df.shape"
   ]
  },
  {
   "cell_type": "code",
   "execution_count": 16,
   "id": "8496c098-ed85-4b39-90fc-dd5339bba06d",
   "metadata": {},
   "outputs": [
    {
     "data": {
      "text/plain": [
       "0    2,776\n",
       "1      205\n",
       "2       60\n",
       "3      203\n",
       "4       59\n",
       "5       51\n",
       "6      137\n",
       "7      361\n",
       "8      166\n",
       "Name: Male Adults, dtype: object"
      ]
     },
     "execution_count": 16,
     "metadata": {},
     "output_type": "execute_result"
    }
   ],
   "source": [
    "A= df[\"Male Adults\"]\n",
    "A"
   ]
  },
  {
   "cell_type": "code",
   "execution_count": 17,
   "id": "dc23d645-0835-46bd-83f7-949698c45234",
   "metadata": {},
   "outputs": [
    {
     "data": {
      "text/plain": [
       "0    1,511\n",
       "1      113\n",
       "2       31\n",
       "3       96\n",
       "4       16\n",
       "5       23\n",
       "6       56\n",
       "7      151\n",
       "8      116\n",
       "Name: Female Adults, dtype: object"
      ]
     },
     "execution_count": 17,
     "metadata": {},
     "output_type": "execute_result"
    }
   ],
   "source": [
    "B= df[\"Female Adults\"]\n",
    "B"
   ]
  },
  {
   "cell_type": "code",
   "execution_count": 6,
   "id": "72e515bc-ea74-4068-aa42-865c67781424",
   "metadata": {},
   "outputs": [
    {
     "data": {
      "text/plain": [
       "Region                                                             9\n",
       "Total Adults                                                       9\n",
       "Male Adults                                                        9\n",
       "Female Adults                                                      9\n",
       "Adults Aged 18-24                                                  9\n",
       "Adults Aged 25-44                                                  9\n",
       "Adults Aged 45-64                                                  9\n",
       "Adults Aged 65+                                                    9\n",
       "Number of people who accessed Private Emergency Accommodation      9\n",
       "Number of people who accessed Supported Temporary Accommodation    9\n",
       "Number of people who accessed Temporary Emergency Accommodation    9\n",
       "Number of people who accessed Other Accommodation                  9\n",
       "Number of Families                                                 9\n",
       "Number of Adults in Families                                       9\n",
       "Number of Child Dependants in Families                             9\n",
       "dtype: int64"
      ]
     },
     "execution_count": 6,
     "metadata": {},
     "output_type": "execute_result"
    }
   ],
   "source": [
    "df.count()"
   ]
  },
  {
   "cell_type": "code",
   "execution_count": 19,
   "id": "460a8df4-201a-40d9-81d3-0d1cf2336ce1",
   "metadata": {},
   "outputs": [
    {
     "data": {
      "text/plain": [
       "<pandas.core.groupby.generic.DataFrameGroupBy object at 0x000001F455E50AF0>"
      ]
     },
     "execution_count": 19,
     "metadata": {},
     "output_type": "execute_result"
    }
   ],
   "source": [
    "df.groupby(\"Total Adults\")"
   ]
  },
  {
   "cell_type": "code",
   "execution_count": 8,
   "id": "be1b890b-08fa-42bb-913f-4663bccb5a7e",
   "metadata": {},
   "outputs": [
    {
     "data": {
      "text/html": [
       "<div>\n",
       "<style scoped>\n",
       "    .dataframe tbody tr th:only-of-type {\n",
       "        vertical-align: middle;\n",
       "    }\n",
       "\n",
       "    .dataframe tbody tr th {\n",
       "        vertical-align: top;\n",
       "    }\n",
       "\n",
       "    .dataframe thead th {\n",
       "        text-align: right;\n",
       "    }\n",
       "</style>\n",
       "<table border=\"1\" class=\"dataframe\">\n",
       "  <thead>\n",
       "    <tr style=\"text-align: right;\">\n",
       "      <th></th>\n",
       "      <th>Adults Aged 18-24</th>\n",
       "      <th>Adults Aged 65+</th>\n",
       "      <th>Number of people who accessed Temporary Emergency Accommodation</th>\n",
       "      <th>Number of people who accessed Other Accommodation</th>\n",
       "      <th>Number of Families</th>\n",
       "    </tr>\n",
       "  </thead>\n",
       "  <tbody>\n",
       "    <tr>\n",
       "      <th>count</th>\n",
       "      <td>9.000000</td>\n",
       "      <td>9.000000</td>\n",
       "      <td>9.000000</td>\n",
       "      <td>9.000000</td>\n",
       "      <td>9.000000</td>\n",
       "    </tr>\n",
       "    <tr>\n",
       "      <th>mean</th>\n",
       "      <td>109.888889</td>\n",
       "      <td>14.222222</td>\n",
       "      <td>13.555556</td>\n",
       "      <td>1.333333</td>\n",
       "      <td>111.666667</td>\n",
       "    </tr>\n",
       "    <tr>\n",
       "      <th>std</th>\n",
       "      <td>225.305040</td>\n",
       "      <td>19.524202</td>\n",
       "      <td>15.009256</td>\n",
       "      <td>3.640055</td>\n",
       "      <td>241.281993</td>\n",
       "    </tr>\n",
       "    <tr>\n",
       "      <th>min</th>\n",
       "      <td>5.000000</td>\n",
       "      <td>1.000000</td>\n",
       "      <td>0.000000</td>\n",
       "      <td>0.000000</td>\n",
       "      <td>6.000000</td>\n",
       "    </tr>\n",
       "    <tr>\n",
       "      <th>25%</th>\n",
       "      <td>21.000000</td>\n",
       "      <td>5.000000</td>\n",
       "      <td>0.000000</td>\n",
       "      <td>0.000000</td>\n",
       "      <td>9.000000</td>\n",
       "    </tr>\n",
       "    <tr>\n",
       "      <th>50%</th>\n",
       "      <td>31.000000</td>\n",
       "      <td>6.000000</td>\n",
       "      <td>8.000000</td>\n",
       "      <td>0.000000</td>\n",
       "      <td>32.000000</td>\n",
       "    </tr>\n",
       "    <tr>\n",
       "      <th>75%</th>\n",
       "      <td>65.000000</td>\n",
       "      <td>15.000000</td>\n",
       "      <td>26.000000</td>\n",
       "      <td>0.000000</td>\n",
       "      <td>60.000000</td>\n",
       "    </tr>\n",
       "    <tr>\n",
       "      <th>max</th>\n",
       "      <td>708.000000</td>\n",
       "      <td>64.000000</td>\n",
       "      <td>39.000000</td>\n",
       "      <td>11.000000</td>\n",
       "      <td>752.000000</td>\n",
       "    </tr>\n",
       "  </tbody>\n",
       "</table>\n",
       "</div>"
      ],
      "text/plain": [
       "       Adults Aged 18-24  Adults Aged 65+  \\\n",
       "count           9.000000         9.000000   \n",
       "mean          109.888889        14.222222   \n",
       "std           225.305040        19.524202   \n",
       "min             5.000000         1.000000   \n",
       "25%            21.000000         5.000000   \n",
       "50%            31.000000         6.000000   \n",
       "75%            65.000000        15.000000   \n",
       "max           708.000000        64.000000   \n",
       "\n",
       "       Number of people who accessed Temporary Emergency Accommodation  \\\n",
       "count                                           9.000000                 \n",
       "mean                                           13.555556                 \n",
       "std                                            15.009256                 \n",
       "min                                             0.000000                 \n",
       "25%                                             0.000000                 \n",
       "50%                                             8.000000                 \n",
       "75%                                            26.000000                 \n",
       "max                                            39.000000                 \n",
       "\n",
       "       Number of people who accessed Other Accommodation  Number of Families  \n",
       "count                                           9.000000            9.000000  \n",
       "mean                                            1.333333          111.666667  \n",
       "std                                             3.640055          241.281993  \n",
       "min                                             0.000000            6.000000  \n",
       "25%                                             0.000000            9.000000  \n",
       "50%                                             0.000000           32.000000  \n",
       "75%                                             0.000000           60.000000  \n",
       "max                                            11.000000          752.000000  "
      ]
     },
     "execution_count": 8,
     "metadata": {},
     "output_type": "execute_result"
    }
   ],
   "source": [
    "df.describe()"
   ]
  },
  {
   "cell_type": "code",
   "execution_count": null,
   "id": "473c723b-1a8f-45db-b178-c45121af6db3",
   "metadata": {},
   "outputs": [],
   "source": [
    "Male Adults\n",
    "Female Adults"
   ]
  },
  {
   "cell_type": "code",
   "execution_count": 21,
   "id": "9672f79b-72e4-4795-8be1-c065f9618200",
   "metadata": {},
   "outputs": [
    {
     "name": "stderr",
     "output_type": "stream",
     "text": [
      "<ipython-input-21-ba99a5c3d4b2>:9: MatplotlibDeprecationWarning: Adding an axes using the same arguments as a previous axes currently reuses the earlier instance.  In a future version, a new instance will always be created and returned.  Meanwhile, this warning can be suppressed, and the future behavior ensured, by passing a unique label to each axes instance.\n",
      "  plt.subplot()\n"
     ]
    },
    {
     "data": {
      "image/png": "[encoded data removed]",
      "text/plain": [
       "<Figure size 1440x360 with 1 Axes>"
      ]
     },
     "metadata": {
      "needs_background": "light"
     },
     "output_type": "display_data"
    }
   ],
   "source": [
    "plt.figure(figsize=(20,5))\n",
    "plt.subplot()\n",
    "plt.plot(A,B)\n",
    "plt.xlabel(\"A\")\n",
    "plt.ylabel(\"B\")\n",
    "plt.title(\"A graph of Male vs Female Adults\")\n",
    "\n",
    "\n",
    "plt.subplot()\n",
    "plt.plot(A,B)\n",
    "plt.xlabel(\"A\")\n",
    "plt.ylabel(\"B\")\n",
    "plt.title(\"A graph of Male vs Female Adults\")\n",
    "plt.show()\n"
   ]
  },
  {
   "cell_type": "code",
   "execution_count": 70,
   "id": "ad6cd79b-365f-4602-90c6-252ea5dad7f4",
   "metadata": {},
   "outputs": [
    {
     "data": {
      "image/png": "[encoded data removed]",
      "text/plain": [
       "<Figure size 360x360 with 1 Axes>"
      ]
     },
     "metadata": {
      "needs_background": "light"
     },
     "output_type": "display_data"
    }
   ],
   "source": [
    "\n",
    "plt.figure(figsize=(5,5))\n",
    "sns.histplot(y=A)\n",
    "sns.histplot(x=B)\n",
    "plt.show()"
   ]
  },
  {
   "cell_type": "code",
   "execution_count": 64,
   "id": "9b5aab23-4edc-44a6-9348-544d5d99950b",
   "metadata": {},
   "outputs": [
    {
     "data": {
      "image/png": "[encoded data removed]",
      "text/plain": [
       "<Figure size 504x360 with 1 Axes>"
      ]
     },
     "metadata": {
      "needs_background": "light"
     },
     "output_type": "display_data"
    }
   ],
   "source": [
    "plt.figure(figsize=(7,5))\n",
    "plt.bar(A,B)\n",
    "plt.xlabel(\"a\")\n",
    "plt.ylabel(\"b\")\n",
    "plt.title(\"A bar graph of Male vs Female Adults\")\n",
    "plt.grid()\n",
    "plt.show()\n",
    "\n"
   ]
  },
  {
   "cell_type": "code",
   "execution_count": 34,
   "id": "d6141d1b-0da2-481b-a818-3c12d8b6fc7c",
   "metadata": {},
   "outputs": [
    {
     "data": {
      "text/plain": [
       "0    2,776\n",
       "1      205\n",
       "2       60\n",
       "3      203\n",
       "4       59\n",
       "5       51\n",
       "6      137\n",
       "7      361\n",
       "8      166\n",
       "Name: Male Adults, dtype: object"
      ]
     },
     "execution_count": 34,
     "metadata": {},
     "output_type": "execute_result"
    }
   ],
   "source": [
    "A= df[\"Male Adults\"]\n",
    "A"
   ]
  },
  {
   "cell_type": "code",
   "execution_count": 35,
   "id": "f459472c-bdc1-4356-b563-b4a2d6f58b28",
   "metadata": {},
   "outputs": [
    {
     "data": {
      "text/plain": [
       "0    1,511\n",
       "1      113\n",
       "2       31\n",
       "3       96\n",
       "4       16\n",
       "5       23\n",
       "6       56\n",
       "7      151\n",
       "8      116\n",
       "Name: Female Adults, dtype: object"
      ]
     },
     "execution_count": 35,
     "metadata": {},
     "output_type": "execute_result"
    }
   ],
   "source": [
    "B= df[\"Female Adults\"]\n",
    "B"
   ]
  },
  {
   "cell_type": "code",
   "execution_count": 43,
   "id": "b005e347-6ce6-4360-b0fe-04820bf2670e",
   "metadata": {},
   "outputs": [
    {
     "data": {
      "text/plain": [
       "0        Dublin\n",
       "1      Mid-East\n",
       "2      Midlands\n",
       "3      Mid-West\n",
       "4    North-East\n",
       "5    North-West\n",
       "6    South-East\n",
       "7    South-West\n",
       "8          West\n",
       "Name: Region, dtype: object"
      ]
     },
     "execution_count": 43,
     "metadata": {},
     "output_type": "execute_result"
    }
   ],
   "source": [
    "C = df[\"Region\"]\n",
    "C"
   ]
  },
  {
   "cell_type": "code",
   "execution_count": 50,
   "id": "88ef655c-6676-4830-aee5-e0fc943a62ae",
   "metadata": {},
   "outputs": [
    {
     "data": {
      "image/png": "[encoded data removed]",
      "text/plain": [
       "<Figure size 720x360 with 1 Axes>"
      ]
     },
     "metadata": {},
     "output_type": "display_data"
    }
   ],
   "source": [
    "C=(\"Dublin\",\"Mid-East\",\"Midlands\",\"Mid-West\",\"North-East\",\" North-West\",\" South-East\",\" South-West\",\" West\")\n",
    "B=(1511,113,31,96,16,23,56,151,116)\n",
    "fig=plt.figure(figsize=(10,5))\n",
    "plt.pie(B, labels = C)\n",
    "plt.show()\n",
    "\n"
   ]
  },
  {
   "cell_type": "code",
   "execution_count": 54,
   "id": "027db844-54df-45cb-b91a-b444cb4c7e9d",
   "metadata": {},
   "outputs": [
    {
     "data": {
      "image/png": "[encoded data removed]",
      "text/plain": [
       "<Figure size 720x360 with 1 Axes>"
      ]
     },
     "metadata": {},
     "output_type": "display_data"
    }
   ],
   "source": [
    "C=(\"Dublin\",\"Mid-East\",\"Midlands\",\"Mid-West\",\"North-East\",\" North-West\",\" South-East\",\" South-West\",\" West\")\n",
    "B=(1511,113,31,96,16,23,56,151,116)\n",
    "fig=plt.figure(figsize=(10,5))\n",
    "plt.pie(B, labels = C)\n",
    "plt.pie(B, labels = C, startangle=90, shadow=True, explode=(0,0,0,0.5,0,0,0,0,0) )\n",
    "plt.legend()\n",
    "plt.show()"
   ]
  },
  {
   "cell_type": "code",
   "execution_count": null,
   "id": "e7f72392-8fee-43f1-90b9-41b53928caf7",
   "metadata": {},
   "outputs": [],
   "source": []
  }
 ],
 "metadata": {
  "kernelspec": {
   "display_name": "Python 3",
   "language": "python",
   "name": "python3"
  },
  "language_info": {
   "codemirror_mode": {
    "name": "ipython",
    "version": 3
   },
   "file_extension": ".py",
   "mimetype": "text/x-python",
   "name": "python",
   "nbconvert_exporter": "python",
   "pygments_lexer": "ipython3",
   "version": "3.8.8"
  }
 },
 "nbformat": 4,
 "nbformat_minor": 5
}
